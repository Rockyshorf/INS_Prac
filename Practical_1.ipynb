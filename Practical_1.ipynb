{
 "cells": [
  {
   "cell_type": "markdown",
   "id": "8fee9ae2",
   "metadata": {},
   "source": [
    "## Ceaser Cipher"
   ]
  },
  {
   "cell_type": "code",
   "execution_count": 2,
   "id": "c6fa1e66",
   "metadata": {},
   "outputs": [
    {
     "name": "stdout",
     "output_type": "stream",
     "text": [
      "Enter the key:3\n",
      "Enter the plain text message:hello\n",
      "Cipher text= khoor\n",
      "Plain text= hello\n"
     ]
    }
   ],
   "source": [
    "lower = 'abcdefghijklmnopqrstuvwxyz'\n",
    "upper = 'ABCDEFGHIJKLMNOPQRSTUVWXYZ'\n",
    "\n",
    "key = int(input(\"Enter the key:\"))\n",
    "plain = input(\"Enter the plain text message:\")\n",
    "\n",
    "def encrypt():\n",
    "    global ciphertext\n",
    "    ciphertext = \"\"\n",
    "    for c in plain:\n",
    "        if c.isalpha() and c.islower():\n",
    "            ciphertext += lower[(lower.index(c)+key)%26]\n",
    "        elif c.isalpha() and c.isupper():\n",
    "            ciphertext += upper[(upper.index(c)+key)%26]\n",
    "        else:\n",
    "            ciphertext += c\n",
    "    print(\"Cipher text=\",ciphertext)\n",
    "    \n",
    "def decrypt():\n",
    "    global plaintext\n",
    "    plaintext = \"\"\n",
    "    for c in ciphertext:\n",
    "        if c.isalpha() and c.islower():\n",
    "            plaintext += lower[(lower.index(c)-key)%26]\n",
    "        elif c.isalpha() and c.isupper():\n",
    "            plaintext += upper[(upper.index(c)-key)%26]\n",
    "        else:\n",
    "            plaintext += c\n",
    "    print(\"Plain text=\",plaintext)\n",
    "\n",
    "encrypt()\n",
    "decrypt()"
   ]
  },
  {
   "cell_type": "markdown",
   "id": "a9854547",
   "metadata": {},
   "source": [
    "## Monoalphabetic Cipher"
   ]
  },
  {
   "cell_type": "code",
   "execution_count": 7,
   "id": "5e37bc8b",
   "metadata": {},
   "outputs": [
    {
     "name": "stdout",
     "output_type": "stream",
     "text": [
      "Enter the Plaintext:hello\n",
      "Key: {'A': 'M', 'B': 'O', 'C': 'h', 'D': 'y', 'E': 'K', 'F': 'j', 'G': 'p', 'H': '9', 'I': 'R', 'J': 'f', 'K': 'o', 'L': 'd', 'M': 'H', 'N': 'r', 'O': 'g', 'P': '5', 'Q': 'C', 'R': 'a', 'S': 'l', 'T': 'J', 'U': '6', 'V': 'P', 'W': 'w', 'X': '0', 'Y': 'D', 'Z': 'Y', 'a': '1', 'b': 'N', 'c': 'm', 'd': 's', 'e': 't', 'f': 'L', 'g': 'n', 'h': 'G', 'i': '3', 'j': 'z', 'k': 'E', 'l': 'V', 'm': 'x', 'n': 'u', 'o': '2', 'p': 'X', 'q': 'B', 'r': '7', 's': 'W', 't': '8', 'u': 'F', 'v': 'I', 'w': 'c', 'x': 'U', 'y': 'v', 'z': '4', '0': 'q', '1': 'T', '2': 'A', '3': 'k', '4': 'b', '5': 'e', '6': 'S', '7': 'i', '8': 'Z', '9': 'Q'}\n",
      "Plaintext: hello\n",
      "Encrypted: GtVV2\n",
      "Decrypted: p8PPA\n"
     ]
    }
   ],
   "source": [
    "import random\n",
    "\n",
    "chars = 'ABCDEFGHIJKLMNOPQRSTUVWXYZ' + 'abcdefghijklmnopqrstuvwxyz' + '0123456789'\n",
    "\n",
    "def generate_key():\n",
    "    shuffled = sorted(chars, key=lambda k: random.random())\n",
    "    return dict(zip(chars, shuffled))\n",
    "\n",
    "def encrypt(key, pliantext):\n",
    "    return \"\".join(key[l] for l in plaintext)\n",
    "\n",
    "def decrypt(key, ciphertext):\n",
    "    flipped = {v:k for v,k in key.items()}\n",
    "    return \"\".join(flipped[l] for l in ciphertext)\n",
    "\n",
    "def show_result(plaintext):\n",
    "    key = generate_key()\n",
    "    encrypted = encrypt(key,plaintext)\n",
    "    decrypted = decrypt(key,encrypted)\n",
    "    print('Key:',key)\n",
    "    print('Plaintext:',plaintext)\n",
    "    print('Encrypted:',encrypted)\n",
    "    print('Decrypted:',decrypted)\n",
    "    \n",
    "plaintext = input(\"Enter the Plaintext:\")\n",
    "show_result(plaintext)"
   ]
  },
  {
   "cell_type": "markdown",
   "id": "f34725c5",
   "metadata": {},
   "source": [
    "## Vernam Cipher"
   ]
  },
  {
   "cell_type": "code",
   "execution_count": 3,
   "id": "f77195fd",
   "metadata": {},
   "outputs": [
    {
     "name": "stdout",
     "output_type": "stream",
     "text": [
      "Enter the plaintext message:hello\n",
      "Key= ImLBM\n",
      "Ciphertext= H,\u0001 -\n",
      "Plaintext= hello\n"
     ]
    }
   ],
   "source": [
    "import random\n",
    "import string\n",
    "\n",
    "def genkey(lenght):\n",
    "    k = \" \"\n",
    "    for n in range(lenght):\n",
    "        k += random.choice(string.ascii_letters+string.digits)\n",
    "    return k\n",
    "\n",
    "def vernam_encrypt(plaintext,key):\n",
    "    global cipher\n",
    "    cipher = \"\"\n",
    "    for i in range(len(plaintext)):\n",
    "        cipher += chr(ord(plaintext[i])^ord(key[i]))\n",
    "    return cipher\n",
    "\n",
    "def vernam_decrypt(ciphertext,key):\n",
    "    global plain\n",
    "    plain =\"\"\n",
    "    for i in range(len(ciphertext)):\n",
    "        plain += chr(ord(ciphertext[i])^ord(key[i]))\n",
    "    return plain\n",
    "\n",
    "plaintext = input(\"Enter the plaintext message:\")\n",
    "key = genkey(len(plaintext))\n",
    "print(\"Key=\"+key)\n",
    "ciphertext = vernam_encrypt(plaintext,key)\n",
    "print(\"Ciphertext=\",ciphertext)\n",
    "print(\"Plaintext=\",vernam_decrypt(ciphertext,key))"
   ]
  },
  {
   "cell_type": "code",
   "execution_count": null,
   "id": "ae3519e8",
   "metadata": {},
   "outputs": [],
   "source": []
  }
 ],
 "metadata": {
  "kernelspec": {
   "display_name": "Python 3 (ipykernel)",
   "language": "python",
   "name": "python3"
  },
  "language_info": {
   "codemirror_mode": {
    "name": "ipython",
    "version": 3
   },
   "file_extension": ".py",
   "mimetype": "text/x-python",
   "name": "python",
   "nbconvert_exporter": "python",
   "pygments_lexer": "ipython3",
   "version": "3.11.7"
  }
 },
 "nbformat": 4,
 "nbformat_minor": 5
}
