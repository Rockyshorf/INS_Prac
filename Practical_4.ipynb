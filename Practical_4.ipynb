{
 "cells": [
  {
   "cell_type": "markdown",
   "id": "a6380a85",
   "metadata": {},
   "source": [
    "## Diffie-Hellman"
   ]
  },
  {
   "cell_type": "code",
   "execution_count": null,
   "id": "79eb74f1",
   "metadata": {},
   "outputs": [],
   "source": [
    "import math, random"
   ]
  },
  {
   "cell_type": "code",
   "execution_count": 12,
   "id": "06972a7d",
   "metadata": {},
   "outputs": [
    {
     "name": "stdout",
     "output_type": "stream",
     "text": [
      "Alice and Bob agree on a prime number: \n",
      "The prime No. is  19 \n",
      "\n",
      "Alice and Bob agree a primitive root to use \n",
      "Root is:  2 \n",
      "\n",
      "At this stage Alice and Bob and Eve all know the prime and the root:  \n",
      "\n",
      "Alice chooses a secret no:  16\n",
      "Alice calculates her public key as A=root^alicesecret mod prime\n",
      "Alice public key is:  5 \n",
      "\n",
      "Bob chooses a secret no:  9\n",
      "Bob calculates his public key as B = root^bobsecret mod prime\n",
      "Bob Public key is:  18 \n",
      "\n",
      "Alice calculates her shared key and gets:  1\n",
      "Bob calculates his shared key and gets:  1\n"
     ]
    }
   ],
   "source": [
    "import random\n",
    "import math\n",
    "\n",
    "\n",
    "global prime,root\n",
    "\n",
    "def is_prime(x):\n",
    "    if x>1:\n",
    "        for i in range(2,x+1):\n",
    "            if x%i == 0 and i!=x and i!=1:\n",
    "                return False\n",
    "            else:\n",
    "                return True\n",
    "    else:\n",
    "        return False\n",
    "    \n",
    "def gcd(a,b):\n",
    "    while b!=0:\n",
    "        a,b = b,a%b\n",
    "    return a\n",
    "\n",
    "def prime():\n",
    "    n = random.randint(1,100)\n",
    "    while not is_prime(n):\n",
    "        n = random.randint(1,100)\n",
    "    return n\n",
    "\n",
    "def primeroots(modulo):\n",
    "    roots = []\n",
    "    required_set = set(num for num in range(1,modulo) if gcd(num,modulo) == 1)\n",
    "    for g in range(1,modulo):\n",
    "        actual_set = set(pow(g,powers)%modulo for powers in range(1,modulo))\n",
    "        if required_set == actual_set:\n",
    "            roots.append(g)\n",
    "            return random.choice(roots)\n",
    "        \n",
    "def secretNumbers():\n",
    "    secret = int(random.randint(1,prime))\n",
    "    return secret\n",
    "\n",
    "print(\"Alice and Bob agree on a prime number: \")\n",
    "prime = prime()\n",
    "print(\"The prime No. is \",prime,\"\\n\")\n",
    "print(\"Alice and Bob agree a primitive root to use \")\n",
    "root = primeroots(prime)\n",
    "print(\"Root is: \",root,\"\\n\")\n",
    "print(\"At this stage Alice and Bob and Eve all know the prime and the root: \",'\\n')\n",
    "alicesecret = secretNumbers()\n",
    "print(\"Alice chooses a secret no: \",alicesecret)\n",
    "print(\"Alice calculates her public key as A=root^alicesecret mod prime\")\n",
    "alicepublic = (root**alicesecret)%prime\n",
    "print(\"Alice public key is: \",alicepublic,\"\\n\")\n",
    "\n",
    "bobsecret = secretNumbers()\n",
    "print(\"Bob chooses a secret no: \",bobsecret)\n",
    "print(\"Bob calculates his public key as B = root^bobsecret mod prime\")\n",
    "bobpublic = (root**bobsecret)%prime\n",
    "print(\"Bob Public key is: \",bobpublic,'\\n')\n",
    "\n",
    "alicekey = (bobpublic**alicesecret)%prime\n",
    "bobkey = (alicepublic**bobsecret)%prime\n",
    "print(\"Alice calculates her shared key and gets: \",alicekey)\n",
    "print(\"Bob calculates his shared key and gets: \",bobkey)"
   ]
  },
  {
   "cell_type": "code",
   "execution_count": null,
   "id": "bc1584fa",
   "metadata": {},
   "outputs": [],
   "source": []
  }
 ],
 "metadata": {
  "kernelspec": {
   "display_name": "Python 3 (ipykernel)",
   "language": "python",
   "name": "python3"
  },
  "language_info": {
   "codemirror_mode": {
    "name": "ipython",
    "version": 3
   },
   "file_extension": ".py",
   "mimetype": "text/x-python",
   "name": "python",
   "nbconvert_exporter": "python",
   "pygments_lexer": "ipython3",
   "version": "3.11.7"
  }
 },
 "nbformat": 4,
 "nbformat_minor": 5
}
