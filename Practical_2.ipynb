{
 "cells": [
  {
   "cell_type": "markdown",
   "id": "7589d582",
   "metadata": {},
   "source": [
    "## RSA Algorithm"
   ]
  },
  {
   "cell_type": "code",
   "execution_count": 6,
   "id": "79623788",
   "metadata": {},
   "outputs": [
    {
     "name": "stdout",
     "output_type": "stream",
     "text": [
      "RSA Enc/Dec\n",
      "Enter a prime number (17,19,23,etc.):11\n",
      "Enter a different Prime number:17\n",
      "Generating your Public/Private key pairs..:\n",
      "Phi: 160\n",
      "e= 73\n",
      "d= 57\n",
      "Public key: (73, 187) Private key: (57, 187)\n",
      "Enter the message in Uppercase:HELLO WORLD\n",
      "Your Encrypted Message:\n",
      "11217417617671165715117682\n",
      "Decrypted message with private key: (57, 187) .....\n",
      "Your message is:\n",
      "HELLOWORLD\n"
     ]
    }
   ],
   "source": [
    "import random\n",
    "\n",
    "def gcd(a,b):\n",
    "    while b!=0:\n",
    "        a,b=b,a%b\n",
    "    return a\n",
    "\n",
    "def multiplicative_inverse(e,phi):\n",
    "    for i in range(1,phi):\n",
    "        if(phi*i+1)%e==0:\n",
    "            return (phi*i+1)//e\n",
    "    raise ValueError(\"No Modular Inverse\")\n",
    "\n",
    "def is_prime(x):\n",
    "    if x>1:\n",
    "        for i in range(2,x+1):\n",
    "            if(x%i == 0) and (i!=x) and (i!=1):\n",
    "                return False\n",
    "            else:\n",
    "                return True\n",
    "    else:\n",
    "        False\n",
    "        \n",
    "def generate_keypair(p,q):\n",
    "    if not (is_prime(p) and is_prime(q)):\n",
    "        raise ValueError('Both number must be Prime')\n",
    "    elif p==q:\n",
    "        raise ValueError('p and q cannot be equal')\n",
    "    n = p*q\n",
    "    phi = (p-1)*(q-1)\n",
    "    print(\"Phi:\",phi)\n",
    "    e = random.randint(2,(phi-1))\n",
    "    g = gcd(e,phi)\n",
    "    \n",
    "    while g!=1:\n",
    "        e = random.randint(2,(phi-1))\n",
    "        g = gcd(e,phi)\n",
    "    print(\"e=\",e)\n",
    "    \n",
    "    d = multiplicative_inverse(e,phi)\n",
    "    print('d=',d)\n",
    "    \n",
    "    return ((e,n),(d,n))\n",
    "\n",
    "def encrypt(pk,plaintext):\n",
    "    a = []\n",
    "    key, n = pk\n",
    "    for char in plaintext:\n",
    "        a.append(((ord(char)-65)%26))\n",
    "    cipher = [(s**key)%n for s in a]\n",
    "    return cipher\n",
    "\n",
    "def decrypt(pk,ciphertext):\n",
    "    key,n= pk\n",
    "    for char in ciphertext:\n",
    "        plain = [chr((((char**key)%n)+65)) for char in ciphertext]\n",
    "    return ''.join(plain)\n",
    "\n",
    "def main():\n",
    "    print(\"RSA Enc/Dec\")\n",
    "    p = int(input(\"Enter a prime number (17,19,23,etc.):\"))\n",
    "    q = int(input(\"Enter a different Prime number:\"))\n",
    "    print(\"Generating your Public/Private key pairs..:\")\n",
    "    public,  private = generate_keypair(p,q)\n",
    "    print(\"Public key:\",public,\"Private key:\",private)\n",
    "    message = input(\"Enter the message in Uppercase:\")\n",
    "    message = message.replace(\" \",\"\")\n",
    "    message = message.upper()\n",
    "    encrypted_msg = encrypt(public,message)\n",
    "    print(\"Your Encrypted Message:\")\n",
    "    print(\"\".join(map(lambda x:str(x),encrypted_msg)))\n",
    "    print(\"Decrypted message with private key:\",private,'.....')\n",
    "    print(\"Your message is:\")\n",
    "    print(decrypt(private,encrypted_msg))\n",
    "\n",
    "main()"
   ]
  },
  {
   "cell_type": "code",
   "execution_count": null,
   "id": "ded12a2e",
   "metadata": {},
   "outputs": [],
   "source": []
  }
 ],
 "metadata": {
  "kernelspec": {
   "display_name": "Python 3 (ipykernel)",
   "language": "python",
   "name": "python3"
  },
  "language_info": {
   "codemirror_mode": {
    "name": "ipython",
    "version": 3
   },
   "file_extension": ".py",
   "mimetype": "text/x-python",
   "name": "python",
   "nbconvert_exporter": "python",
   "pygments_lexer": "ipython3",
   "version": "3.11.7"
  }
 },
 "nbformat": 4,
 "nbformat_minor": 5
}
