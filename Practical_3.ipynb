{
 "cells": [
  {
   "cell_type": "markdown",
   "id": "18be5229",
   "metadata": {},
   "source": [
    "## Message Authentication Code using MD5 Algorithm"
   ]
  },
  {
   "cell_type": "markdown",
   "id": "70911cfb",
   "metadata": {},
   "source": [
    "### Creating MD for a String"
   ]
  },
  {
   "cell_type": "code",
   "execution_count": 6,
   "id": "72563343",
   "metadata": {},
   "outputs": [
    {
     "name": "stdout",
     "output_type": "stream",
     "text": [
      "Enter the string to create hash value:simon\n",
      "The Hexadecimal equivalent of hash is: b30bd351371c686298d32281b337e8e9\n",
      "Enter the string to compare hash value:simon\n",
      "The Hexadecimal equivalent of hash is :b30bd351371c686298d32281b337e8e9\n"
     ]
    }
   ],
   "source": [
    "import hashlib\n",
    "\n",
    "str = input(\"Enter the string to create hash value:\")\n",
    "result = hashlib.md5(str.encode('utf-8'))\n",
    "\n",
    "print(\"The Hexadecimal equivalent of hash is: \",end=\"\")\n",
    "print(result.hexdigest())\n",
    "\n",
    "str = input(\"Enter the string to compare hash value:\")\n",
    "result = hashlib.md5(str.encode('utf-8'))\n",
    "\n",
    "print(\"The Hexadecimal equivalent of hash is :\",end=\"\")\n",
    "print(result.hexdigest())"
   ]
  },
  {
   "cell_type": "markdown",
   "id": "299d3da1",
   "metadata": {},
   "source": [
    "### Creating MD for a File"
   ]
  },
  {
   "cell_type": "code",
   "execution_count": 7,
   "id": "b47f6d72",
   "metadata": {},
   "outputs": [],
   "source": [
    "import hashlib\n",
    "\n",
    "def md5CheckSum(filepath):\n",
    "    with open(filepath,'rb') as fh:\n",
    "        while True:\n",
    "            data = fh.read(1024)\n",
    "            if not data:\n",
    "                break\n",
    "            m = hashlib.md5(data)\n",
    "        return m.hexdigest()"
   ]
  },
  {
   "cell_type": "code",
   "execution_count": 12,
   "id": "a9fce72c",
   "metadata": {},
   "outputs": [
    {
     "data": {
      "text/plain": [
       "'994c8a66df855d3deb06f987c2352422'"
      ]
     },
     "execution_count": 12,
     "metadata": {},
     "output_type": "execute_result"
    }
   ],
   "source": [
    "md5CheckSum('./text_file.txt')"
   ]
  },
  {
   "cell_type": "markdown",
   "id": "96655b57",
   "metadata": {},
   "source": [
    "## Message Authentication Code using HMAC-SHA1 Signature"
   ]
  },
  {
   "cell_type": "code",
   "execution_count": 14,
   "id": "b97a3cd4",
   "metadata": {},
   "outputs": [
    {
     "name": "stdout",
     "output_type": "stream",
     "text": [
      "Enter the message:hello world\n",
      "Enter the key:123\n",
      "ac6bd724a993669df90a7b09fa5ff0b99ee7a000\n",
      "40\n",
      "Enter the message to compare digest:hello world\n",
      "Enter the same key:123\n",
      "ac6bd724a993669df90a7b09fa5ff0b99ee7a000\n",
      "40\n"
     ]
    }
   ],
   "source": [
    "import hashlib, hmac\n",
    "\n",
    "def make_digest(message, key):\n",
    "    key = bytes(key, 'UTF-8')\n",
    "    message = bytes(message, 'UTF-8')\n",
    "    \n",
    "    digest = hmac.new(message, key, hashlib.sha1)\n",
    "    signature1 = digest.hexdigest()\n",
    "    return signature1\n",
    "\n",
    "msg = input(\"Enter the message:\")\n",
    "key = input(\"Enter the key:\")\n",
    "result = make_digest(msg, key)\n",
    "\n",
    "print(result)\n",
    "print(len(result))\n",
    "\n",
    "msg = input(\"Enter the message to compare digest:\")\n",
    "key = input(\"Enter the same key:\")\n",
    "result = make_digest(msg, key)\n",
    "\n",
    "print(result)\n",
    "print(len(result))"
   ]
  },
  {
   "cell_type": "code",
   "execution_count": null,
   "id": "515745fb",
   "metadata": {},
   "outputs": [],
   "source": []
  }
 ],
 "metadata": {
  "kernelspec": {
   "display_name": "Python 3 (ipykernel)",
   "language": "python",
   "name": "python3"
  },
  "language_info": {
   "codemirror_mode": {
    "name": "ipython",
    "version": 3
   },
   "file_extension": ".py",
   "mimetype": "text/x-python",
   "name": "python",
   "nbconvert_exporter": "python",
   "pygments_lexer": "ipython3",
   "version": "3.11.7"
  }
 },
 "nbformat": 4,
 "nbformat_minor": 5
}
